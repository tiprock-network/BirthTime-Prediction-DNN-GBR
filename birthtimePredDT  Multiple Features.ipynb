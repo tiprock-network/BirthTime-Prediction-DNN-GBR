{
 "cells": [
  {
   "cell_type": "markdown",
   "metadata": {},
   "source": [
    "# Using Decision Trees for Regression Analysis\n",
    "### Using multiple variables\n",
    "* Blood Pressure\n",
    "* BMI\n",
    "* weight\n"
   ]
  },
  {
   "cell_type": "code",
   "execution_count": 1,
   "metadata": {},
   "outputs": [],
   "source": [
    "import pandas as pd\n",
    "import numpy as np\n",
    "import matplotlib.pyplot as plt\n",
    "import math\n",
    "import copy"
   ]
  },
  {
   "cell_type": "code",
   "execution_count": 10,
   "metadata": {},
   "outputs": [
    {
     "name": "stdout",
     "output_type": "stream",
     "text": [
      "   systolic  diastolic   BMI  momWeight/10  timeValueinHrs  days  BMIScaled  \\\n",
      "0       110         80  19.3          5.59           20.33  26.3       1.93   \n",
      "1       124         86  18.5          5.59            7.25  27.7       1.85   \n",
      "2       110         80  19.3          5.59           15.50  27.5       1.93   \n",
      "3       124         86  25.1          5.59            9.35  26.3       2.51   \n",
      "4       122         76  19.3          5.59           20.22  27.6       1.93   \n",
      "\n",
      "   timeScaled  daysScaled  \n",
      "0       2.033        2.63  \n",
      "1       0.725        2.77  \n",
      "2       1.550        2.75  \n",
      "3       0.935        2.63  \n",
      "4       2.022        2.76  \n"
     ]
    },
    {
     "data": {
      "text/html": [
       "<div>\n",
       "<style scoped>\n",
       "    .dataframe tbody tr th:only-of-type {\n",
       "        vertical-align: middle;\n",
       "    }\n",
       "\n",
       "    .dataframe tbody tr th {\n",
       "        vertical-align: top;\n",
       "    }\n",
       "\n",
       "    .dataframe thead th {\n",
       "        text-align: right;\n",
       "    }\n",
       "</style>\n",
       "<table border=\"1\" class=\"dataframe\">\n",
       "  <thead>\n",
       "    <tr style=\"text-align: right;\">\n",
       "      <th></th>\n",
       "      <th>systolic</th>\n",
       "      <th>diastolic</th>\n",
       "      <th>BMI</th>\n",
       "      <th>momWeight/10</th>\n",
       "      <th>timeValueinHrs</th>\n",
       "      <th>days</th>\n",
       "      <th>BMIScaled</th>\n",
       "      <th>timeScaled</th>\n",
       "      <th>daysScaled</th>\n",
       "    </tr>\n",
       "  </thead>\n",
       "  <tbody>\n",
       "    <tr>\n",
       "      <th>0</th>\n",
       "      <td>110</td>\n",
       "      <td>80</td>\n",
       "      <td>19.3</td>\n",
       "      <td>5.59</td>\n",
       "      <td>20.33</td>\n",
       "      <td>26.3</td>\n",
       "      <td>1.93</td>\n",
       "      <td>2.033</td>\n",
       "      <td>2.63</td>\n",
       "    </tr>\n",
       "    <tr>\n",
       "      <th>1</th>\n",
       "      <td>124</td>\n",
       "      <td>86</td>\n",
       "      <td>18.5</td>\n",
       "      <td>5.59</td>\n",
       "      <td>7.25</td>\n",
       "      <td>27.7</td>\n",
       "      <td>1.85</td>\n",
       "      <td>0.725</td>\n",
       "      <td>2.77</td>\n",
       "    </tr>\n",
       "    <tr>\n",
       "      <th>2</th>\n",
       "      <td>110</td>\n",
       "      <td>80</td>\n",
       "      <td>19.3</td>\n",
       "      <td>5.59</td>\n",
       "      <td>15.50</td>\n",
       "      <td>27.5</td>\n",
       "      <td>1.93</td>\n",
       "      <td>1.550</td>\n",
       "      <td>2.75</td>\n",
       "    </tr>\n",
       "    <tr>\n",
       "      <th>3</th>\n",
       "      <td>124</td>\n",
       "      <td>86</td>\n",
       "      <td>25.1</td>\n",
       "      <td>5.59</td>\n",
       "      <td>9.35</td>\n",
       "      <td>26.3</td>\n",
       "      <td>2.51</td>\n",
       "      <td>0.935</td>\n",
       "      <td>2.63</td>\n",
       "    </tr>\n",
       "    <tr>\n",
       "      <th>4</th>\n",
       "      <td>122</td>\n",
       "      <td>76</td>\n",
       "      <td>19.3</td>\n",
       "      <td>5.59</td>\n",
       "      <td>20.22</td>\n",
       "      <td>27.6</td>\n",
       "      <td>1.93</td>\n",
       "      <td>2.022</td>\n",
       "      <td>2.76</td>\n",
       "    </tr>\n",
       "  </tbody>\n",
       "</table>\n",
       "</div>"
      ],
      "text/plain": [
       "   systolic  diastolic   BMI  momWeight/10  timeValueinHrs  days  BMIScaled  \\\n",
       "0       110         80  19.3          5.59           20.33  26.3       1.93   \n",
       "1       124         86  18.5          5.59            7.25  27.7       1.85   \n",
       "2       110         80  19.3          5.59           15.50  27.5       1.93   \n",
       "3       124         86  25.1          5.59            9.35  26.3       2.51   \n",
       "4       122         76  19.3          5.59           20.22  27.6       1.93   \n",
       "\n",
       "   timeScaled  daysScaled  \n",
       "0       2.033        2.63  \n",
       "1       0.725        2.77  \n",
       "2       1.550        2.75  \n",
       "3       0.935        2.63  \n",
       "4       2.022        2.76  "
      ]
     },
     "execution_count": 10,
     "metadata": {},
     "output_type": "execute_result"
    }
   ],
   "source": [
    "#dataframe\n",
    "dataframe=pd.read_csv('labourward2.csv')\n",
    "df_features=pd.read_csv('labourward2.csv')\n",
    "print(dataframe.head())\n",
    "df_features.head()"
   ]
  },
  {
   "cell_type": "code",
   "execution_count": 3,
   "metadata": {},
   "outputs": [
    {
     "name": "stdout",
     "output_type": "stream",
     "text": [
      "(101, 9)\n"
     ]
    }
   ],
   "source": [
    "#dataset shape\n",
    "dataset=np.array(dataframe)\n",
    "print(dataset.shape)"
   ]
  },
  {
   "cell_type": "code",
   "execution_count": 11,
   "metadata": {},
   "outputs": [
    {
     "name": "stdout",
     "output_type": "stream",
     "text": [
      "[[1.93 5.59]\n",
      " [1.85 5.59]\n",
      " [1.93 5.59]\n",
      " [2.51 5.59]\n",
      " [1.93 5.59]\n",
      " [2.51 5.7 ]\n",
      " [1.85 5.7 ]\n",
      " [2.43 5.8 ]\n",
      " [2.27 5.8 ]\n",
      " [1.93 5.8 ]\n",
      " [2.34 5.8 ]\n",
      " [1.93 5.8 ]\n",
      " [2.34 5.8 ]\n",
      " [1.85 6.  ]\n",
      " [2.27 6.  ]\n",
      " [2.51 6.1 ]\n",
      " [2.43 6.1 ]\n",
      " [2.02 6.24]\n",
      " [2.34 6.24]\n",
      " [1.93 6.24]\n",
      " [2.23 6.24]\n",
      " [2.51 6.24]\n",
      " [1.93 6.3 ]\n",
      " [2.51 6.3 ]\n",
      " [2.51 6.3 ]\n",
      " [2.34 6.32]\n",
      " [2.01 6.32]\n",
      " [2.34 6.32]\n",
      " [1.93 6.32]\n",
      " [2.34 6.32]\n",
      " [2.12 6.5 ]\n",
      " [2.23 6.5 ]\n",
      " [2.27 6.5 ]\n",
      " [2.34 6.5 ]\n",
      " [2.27 6.5 ]\n",
      " [2.27 6.8 ]\n",
      " [2.43 6.8 ]\n",
      " [1.93 6.8 ]\n",
      " [2.27 6.8 ]\n",
      " [2.27 6.8 ]\n",
      " [1.83 6.8 ]\n",
      " [2.27 6.8 ]\n",
      " [1.85 6.8 ]\n",
      " [2.51 6.97]\n",
      " [1.92 6.97]\n",
      " [2.51 6.97]\n",
      " [2.43 6.97]\n",
      " [2.51 6.97]\n",
      " [2.23 6.97]\n",
      " [2.34 7.  ]\n",
      " [1.83 7.  ]\n",
      " [2.27 7.  ]\n",
      " [2.02 7.  ]\n",
      " [2.34 7.  ]\n",
      " [2.43 7.  ]\n",
      " [2.02 7.  ]\n",
      " [2.12 7.  ]\n",
      " [2.43 7.  ]\n",
      " [1.93 7.  ]\n",
      " [2.43 7.07]\n",
      " [2.34 7.07]\n",
      " [2.43 7.07]\n",
      " [2.27 7.07]\n",
      " [2.43 7.07]\n",
      " [2.01 7.07]\n",
      " [1.83 7.1 ]\n",
      " [2.51 7.1 ]\n",
      " [1.83 7.1 ]\n",
      " [2.12 7.1 ]\n",
      " [1.92 7.1 ]\n",
      " [2.34 7.2 ]\n",
      " [1.93 7.2 ]\n",
      " [1.93 7.2 ]\n",
      " [1.93 7.3 ]\n",
      " [2.51 7.3 ]\n",
      " [1.97 7.5 ]\n",
      " [2.12 7.5 ]\n",
      " [1.83 7.5 ]\n",
      " [2.27 7.5 ]\n",
      " [2.23 7.65]\n",
      " [1.93 7.65]\n",
      " [2.51 7.65]\n",
      " [2.01 7.65]\n",
      " [2.43 7.65]\n",
      " [2.01 7.7 ]\n",
      " [2.43 7.7 ]\n",
      " [2.51 8.2 ]\n",
      " [2.34 8.2 ]\n",
      " [2.34 8.2 ]\n",
      " [1.92 8.2 ]\n",
      " [2.34 8.2 ]\n",
      " [2.27 8.3 ]\n",
      " [2.34 8.3 ]\n",
      " [2.51 8.3 ]\n",
      " [1.83 8.3 ]\n",
      " [2.51 8.3 ]\n",
      " [2.12 8.5 ]\n",
      " [2.43 8.5 ]\n",
      " [2.12 8.5 ]\n",
      " [2.34 8.5 ]\n",
      " [2.34 8.5 ]]\n"
     ]
    }
   ],
   "source": [
    "#x=np.array(dataframe['momWeight/10']).reshape(-1,1)\n",
    "#or\n",
    "x=np.array(df_features[['BMIScaled','momWeight/10']])\n",
    "print(x)"
   ]
  },
  {
   "cell_type": "code",
   "execution_count": 12,
   "metadata": {},
   "outputs": [
    {
     "name": "stdout",
     "output_type": "stream",
     "text": [
      "[9.5 10.33 20.33 15.25 12.17 11.08 8.5 6.02 9.33 9.5 10.33 20.33 15.25\n",
      " 12.17 11.08 8.5 6.02 9.33 11.23 9.07 6.33 9.22 12.38 15.5 16.5 12.38 9.35\n",
      " 22.38 23.35 9.6 6.22 12.25 11.07 12.27 7.25 9.68 15.33 20.43 22.07 22.38\n",
      " 23.35 9.6 6.22 12.25 11.07 12.27 7.25 9.68 15.33 20.43 22.07 15.5 16.5\n",
      " 12.38 9.35 22.38 23.35 9.6 6.22 12.25 11.07 12.27 7.25 9.68 3.35 20.22\n",
      " 11.23 9.07 6.33 9.22 12.38 15.5 16.5 12.38 9.35 22.38 23.35 9.6 6.22 17.5\n",
      " 0.27 3.35 20.22 11.23 9.07 6.33 9.22 12.38 15.5 16.5 12.38 9.35 22.38\n",
      " 23.35 21.27 10.37 9.25 16.27 9.38 22.27 6.02]\n"
     ]
    }
   ],
   "source": [
    "y=dataset[:,8] #1 D column expected\n",
    "print(y)"
   ]
  },
  {
   "cell_type": "code",
   "execution_count": 13,
   "metadata": {},
   "outputs": [],
   "source": [
    "#divide into train and test\n",
    "from sklearn.model_selection import train_test_split\n",
    "x_train,x_test,y_train,y_test=train_test_split(x,y,random_state=100)"
   ]
  },
  {
   "cell_type": "code",
   "execution_count": 14,
   "metadata": {},
   "outputs": [
    {
     "data": {
      "text/html": [
       "<style>#sk-container-id-2 {color: black;background-color: white;}#sk-container-id-2 pre{padding: 0;}#sk-container-id-2 div.sk-toggleable {background-color: white;}#sk-container-id-2 label.sk-toggleable__label {cursor: pointer;display: block;width: 100%;margin-bottom: 0;padding: 0.3em;box-sizing: border-box;text-align: center;}#sk-container-id-2 label.sk-toggleable__label-arrow:before {content: \"▸\";float: left;margin-right: 0.25em;color: #696969;}#sk-container-id-2 label.sk-toggleable__label-arrow:hover:before {color: black;}#sk-container-id-2 div.sk-estimator:hover label.sk-toggleable__label-arrow:before {color: black;}#sk-container-id-2 div.sk-toggleable__content {max-height: 0;max-width: 0;overflow: hidden;text-align: left;background-color: #f0f8ff;}#sk-container-id-2 div.sk-toggleable__content pre {margin: 0.2em;color: black;border-radius: 0.25em;background-color: #f0f8ff;}#sk-container-id-2 input.sk-toggleable__control:checked~div.sk-toggleable__content {max-height: 200px;max-width: 100%;overflow: auto;}#sk-container-id-2 input.sk-toggleable__control:checked~label.sk-toggleable__label-arrow:before {content: \"▾\";}#sk-container-id-2 div.sk-estimator input.sk-toggleable__control:checked~label.sk-toggleable__label {background-color: #d4ebff;}#sk-container-id-2 div.sk-label input.sk-toggleable__control:checked~label.sk-toggleable__label {background-color: #d4ebff;}#sk-container-id-2 input.sk-hidden--visually {border: 0;clip: rect(1px 1px 1px 1px);clip: rect(1px, 1px, 1px, 1px);height: 1px;margin: -1px;overflow: hidden;padding: 0;position: absolute;width: 1px;}#sk-container-id-2 div.sk-estimator {font-family: monospace;background-color: #f0f8ff;border: 1px dotted black;border-radius: 0.25em;box-sizing: border-box;margin-bottom: 0.5em;}#sk-container-id-2 div.sk-estimator:hover {background-color: #d4ebff;}#sk-container-id-2 div.sk-parallel-item::after {content: \"\";width: 100%;border-bottom: 1px solid gray;flex-grow: 1;}#sk-container-id-2 div.sk-label:hover label.sk-toggleable__label {background-color: #d4ebff;}#sk-container-id-2 div.sk-serial::before {content: \"\";position: absolute;border-left: 1px solid gray;box-sizing: border-box;top: 0;bottom: 0;left: 50%;z-index: 0;}#sk-container-id-2 div.sk-serial {display: flex;flex-direction: column;align-items: center;background-color: white;padding-right: 0.2em;padding-left: 0.2em;position: relative;}#sk-container-id-2 div.sk-item {position: relative;z-index: 1;}#sk-container-id-2 div.sk-parallel {display: flex;align-items: stretch;justify-content: center;background-color: white;position: relative;}#sk-container-id-2 div.sk-item::before, #sk-container-id-2 div.sk-parallel-item::before {content: \"\";position: absolute;border-left: 1px solid gray;box-sizing: border-box;top: 0;bottom: 0;left: 50%;z-index: -1;}#sk-container-id-2 div.sk-parallel-item {display: flex;flex-direction: column;z-index: 1;position: relative;background-color: white;}#sk-container-id-2 div.sk-parallel-item:first-child::after {align-self: flex-end;width: 50%;}#sk-container-id-2 div.sk-parallel-item:last-child::after {align-self: flex-start;width: 50%;}#sk-container-id-2 div.sk-parallel-item:only-child::after {width: 0;}#sk-container-id-2 div.sk-dashed-wrapped {border: 1px dashed gray;margin: 0 0.4em 0.5em 0.4em;box-sizing: border-box;padding-bottom: 0.4em;background-color: white;}#sk-container-id-2 div.sk-label label {font-family: monospace;font-weight: bold;display: inline-block;line-height: 1.2em;}#sk-container-id-2 div.sk-label-container {text-align: center;}#sk-container-id-2 div.sk-container {/* jupyter's `normalize.less` sets `[hidden] { display: none; }` but bootstrap.min.css set `[hidden] { display: none !important; }` so we also need the `!important` here to be able to override the default hidden behavior on the sphinx rendered scikit-learn.org. See: https://github.com/scikit-learn/scikit-learn/issues/21755 */display: inline-block !important;position: relative;}#sk-container-id-2 div.sk-text-repr-fallback {display: none;}</style><div id=\"sk-container-id-2\" class=\"sk-top-container\"><div class=\"sk-text-repr-fallback\"><pre>DecisionTreeRegressor(random_state=0)</pre><b>In a Jupyter environment, please rerun this cell to show the HTML representation or trust the notebook. <br />On GitHub, the HTML representation is unable to render, please try loading this page with nbviewer.org.</b></div><div class=\"sk-container\" hidden><div class=\"sk-item\"><div class=\"sk-estimator sk-toggleable\"><input class=\"sk-toggleable__control sk-hidden--visually\" id=\"sk-estimator-id-2\" type=\"checkbox\" checked><label for=\"sk-estimator-id-2\" class=\"sk-toggleable__label sk-toggleable__label-arrow\">DecisionTreeRegressor</label><div class=\"sk-toggleable__content\"><pre>DecisionTreeRegressor(random_state=0)</pre></div></div></div></div></div>"
      ],
      "text/plain": [
       "DecisionTreeRegressor(random_state=0)"
      ]
     },
     "execution_count": 14,
     "metadata": {},
     "output_type": "execute_result"
    }
   ],
   "source": [
    "#import decision trees\n",
    "from sklearn.tree import  DecisionTreeRegressor\n",
    "\n",
    "#regressor object\n",
    "reg=DecisionTreeRegressor(random_state=0)\n",
    "#fitting parameter values\n",
    "reg.fit(x_train,y_train)"
   ]
  },
  {
   "cell_type": "markdown",
   "metadata": {},
   "source": [
    "Testing the model for output"
   ]
  },
  {
   "cell_type": "code",
   "execution_count": 15,
   "metadata": {},
   "outputs": [
    {
     "ename": "IndexError",
     "evalue": "index 2 is out of bounds for axis 0 with size 2",
     "output_type": "error",
     "traceback": [
      "\u001b[1;31m---------------------------------------------------------------------------\u001b[0m",
      "\u001b[1;31mIndexError\u001b[0m                                Traceback (most recent call last)",
      "\u001b[1;32mc:\\Users\\theop\\Desktop\\AI and Data Science\\research project(Birth Prediction)\\birthtimePredDT  Multiple Features.ipynb Cell 10\u001b[0m in \u001b[0;36m<cell line: 2>\u001b[1;34m()\u001b[0m\n\u001b[0;32m      <a href='vscode-notebook-cell:/c%3A/Users/theop/Desktop/AI%20and%20Data%20Science/research%20project%28Birth%20Prediction%29/birthtimePredDT%20%20Multiple%20Features.ipynb#X12sZmlsZQ%3D%3D?line=5'>6</a>\u001b[0m time\u001b[39m=\u001b[39mm\u001b[39m+\u001b[39mh\n\u001b[0;32m      <a href='vscode-notebook-cell:/c%3A/Users/theop/Desktop/AI%20and%20Data%20Science/research%20project%28Birth%20Prediction%29/birthtimePredDT%20%20Multiple%20Features.ipynb#X12sZmlsZQ%3D%3D?line=6'>7</a>\u001b[0m \u001b[39mif\u001b[39;00m time\u001b[39m>\u001b[39m\u001b[39m0.0\u001b[39m \u001b[39mand\u001b[39;00m time\u001b[39m<\u001b[39m\u001b[39m12.0\u001b[39m:\n\u001b[1;32m----> <a href='vscode-notebook-cell:/c%3A/Users/theop/Desktop/AI%20and%20Data%20Science/research%20project%28Birth%20Prediction%29/birthtimePredDT%20%20Multiple%20Features.ipynb#X12sZmlsZQ%3D%3D?line=8'>9</a>\u001b[0m  \u001b[39mprint\u001b[39m(\u001b[39mf\u001b[39m\u001b[39m\"\u001b[39m\u001b[39m{\u001b[39;00mx_test[i][\u001b[39m0\u001b[39m]\u001b[39m}\u001b[39;00m\u001b[39m/\u001b[39m\u001b[39m{\u001b[39;00mx_test[i][\u001b[39m1\u001b[39m]\u001b[39m}\u001b[39;00m\u001b[39mmm/Hg \u001b[39m\u001b[39m\\t\u001b[39;00m\u001b[39m{\u001b[39;00mx_test[i][\u001b[39m2\u001b[39m]\u001b[39m}\u001b[39;00m\u001b[39m BMI\u001b[39m\u001b[39m\\t\u001b[39;00m\u001b[39m{\u001b[39;00m\u001b[39mround\u001b[39m(x_test[i][\u001b[39m3\u001b[39m]\u001b[39m*\u001b[39m\u001b[39m10\u001b[39m,\u001b[39m2\u001b[39m)\u001b[39m}\u001b[39;00m\u001b[39m kg  = Prediction: \u001b[39m\u001b[39m{\u001b[39;00mtime\u001b[39m:\u001b[39;00m\u001b[39m0.2f\u001b[39m\u001b[39m}\u001b[39;00m\u001b[39m am\u001b[39m\u001b[39m\"\u001b[39m)\n\u001b[0;32m     <a href='vscode-notebook-cell:/c%3A/Users/theop/Desktop/AI%20and%20Data%20Science/research%20project%28Birth%20Prediction%29/birthtimePredDT%20%20Multiple%20Features.ipynb#X12sZmlsZQ%3D%3D?line=9'>10</a>\u001b[0m \u001b[39melif\u001b[39;00m time\u001b[39m>\u001b[39m\u001b[39m11.59\u001b[39m \u001b[39mand\u001b[39;00m time\u001b[39m<\u001b[39m\u001b[39m23.59\u001b[39m:\n\u001b[0;32m     <a href='vscode-notebook-cell:/c%3A/Users/theop/Desktop/AI%20and%20Data%20Science/research%20project%28Birth%20Prediction%29/birthtimePredDT%20%20Multiple%20Features.ipynb#X12sZmlsZQ%3D%3D?line=10'>11</a>\u001b[0m     time\u001b[39m=\u001b[39m\u001b[39mround\u001b[39m(time\u001b[39m-\u001b[39m\u001b[39m12.00\u001b[39m,\u001b[39m2\u001b[39m)\u001b[39m#convert into 12hrs clock\u001b[39;00m\n",
      "\u001b[1;31mIndexError\u001b[0m: index 2 is out of bounds for axis 0 with size 2"
     ]
    }
   ],
   "source": [
    "y_hat=reg.predict(x_test)\n",
    "for i in range(len(x_test)):\n",
    "    res=y_hat[i]\n",
    "    m=(round((res-int(res))*60,0))/100\n",
    "    h=math.trunc(res)\n",
    "    time=m+h\n",
    "    if time>0.0 and time<12.0:\n",
    "     \n",
    "     print(f\"{x_test[i][0]}/{x_test[i][1]}mm/Hg \\t{x_test[i][2]} BMI\\t{round(x_test[i][3]*10,2)} kg  = Prediction: {time:0.2f} am\")\n",
    "    elif time>11.59 and time<23.59:\n",
    "        time=round(time-12.00,2)#convert into 12hrs clock\n",
    "        if time>=0.0 and time<=0.59:\n",
    "         print(f\"{x_test[i][0]}/{x_test[i][1]}mm/Hg \\t{x_test[i][2]} BMI\\t{round(x_test[i][3]*10,2)} kg = Prediction: {time+12.00:0.2f} pm\")\n",
    "        elif time>0.59:\n",
    "         print(f\"{x_test[i][0]}/{x_test[i][1]}mm/Hg \\t{x_test[i][2]} BMI\\t{round(x_test[i][3]*10,2)} kg = Prediction: {time:0.2f} pm\")\n",
    "    "
   ]
  },
  {
   "cell_type": "markdown",
   "metadata": {},
   "source": [
    "# Decision Tree Evaluation"
   ]
  },
  {
   "cell_type": "code",
   "execution_count": 17,
   "metadata": {},
   "outputs": [
    {
     "name": "stdout",
     "output_type": "stream",
     "text": [
      "RMSE root: 8.92064136190287\n",
      "MAE root: 7.581923076923077\n"
     ]
    }
   ],
   "source": [
    "#get the mean squared error root\n",
    "from sklearn.metrics import mean_squared_error,mean_absolute_error\n",
    "print(f\"RMSE root: {np.sqrt(mean_squared_error(y_test,y_hat))}\")\n",
    "print(f\"MAE root: {mean_absolute_error(y_test,y_hat)}\")"
   ]
  }
 ],
 "metadata": {
  "kernelspec": {
   "display_name": "Python 3.10.5 64-bit",
   "language": "python",
   "name": "python3"
  },
  "language_info": {
   "codemirror_mode": {
    "name": "ipython",
    "version": 3
   },
   "file_extension": ".py",
   "mimetype": "text/x-python",
   "name": "python",
   "nbconvert_exporter": "python",
   "pygments_lexer": "ipython3",
   "version": "3.10.5 (tags/v3.10.5:f377153, Jun  6 2022, 16:14:13) [MSC v.1929 64 bit (AMD64)]"
  },
  "orig_nbformat": 4,
  "vscode": {
   "interpreter": {
    "hash": "5b65f58aac08ef7a7032cc93a81d82c2e49bff9fbe70de5f6ea40a0cab91e5f6"
   }
  }
 },
 "nbformat": 4,
 "nbformat_minor": 2
}
