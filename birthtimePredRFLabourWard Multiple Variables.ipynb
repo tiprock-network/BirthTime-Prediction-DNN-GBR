{
 "cells": [
  {
   "cell_type": "markdown",
   "metadata": {},
   "source": [
    "# Using Randforest with SciKit Learn to predict birth time"
   ]
  },
  {
   "cell_type": "code",
   "execution_count": 2,
   "metadata": {},
   "outputs": [],
   "source": [
    "import pandas as pd\n",
    "import numpy as np\n",
    "import matplotlib.pyplot as plt\n"
   ]
  },
  {
   "cell_type": "code",
   "execution_count": 3,
   "metadata": {},
   "outputs": [
    {
     "name": "stdout",
     "output_type": "stream",
     "text": [
      "   systolic  diastolic   BMI  momWeight/10  timeValueinHrs  days  BMIScaled  \\\n",
      "0       110         80  19.3          5.59           20.33  26.3       1.93   \n",
      "1       124         86  18.5          5.59            7.25  27.7       1.85   \n",
      "2       110         80  19.3          5.59           15.50  27.5       1.93   \n",
      "3       124         86  25.1          5.59            9.35  26.3       2.51   \n",
      "4       122         76  19.3          5.59           20.22  27.6       1.93   \n",
      "\n",
      "   timeScaled  daysScaled  \n",
      "0       2.033        2.63  \n",
      "1       0.725        2.77  \n",
      "2       1.550        2.75  \n",
      "3       0.935        2.63  \n",
      "4       2.022        2.76  \n"
     ]
    },
    {
     "data": {
      "text/html": [
       "<div>\n",
       "<style scoped>\n",
       "    .dataframe tbody tr th:only-of-type {\n",
       "        vertical-align: middle;\n",
       "    }\n",
       "\n",
       "    .dataframe tbody tr th {\n",
       "        vertical-align: top;\n",
       "    }\n",
       "\n",
       "    .dataframe thead th {\n",
       "        text-align: right;\n",
       "    }\n",
       "</style>\n",
       "<table border=\"1\" class=\"dataframe\">\n",
       "  <thead>\n",
       "    <tr style=\"text-align: right;\">\n",
       "      <th></th>\n",
       "      <th>systolic</th>\n",
       "      <th>diastolic</th>\n",
       "      <th>BMI</th>\n",
       "      <th>momWeight/10</th>\n",
       "      <th>timeValueinHrs</th>\n",
       "      <th>days</th>\n",
       "      <th>BMIScaled</th>\n",
       "      <th>timeScaled</th>\n",
       "      <th>daysScaled</th>\n",
       "    </tr>\n",
       "  </thead>\n",
       "  <tbody>\n",
       "    <tr>\n",
       "      <th>0</th>\n",
       "      <td>110</td>\n",
       "      <td>80</td>\n",
       "      <td>19.3</td>\n",
       "      <td>5.59</td>\n",
       "      <td>20.33</td>\n",
       "      <td>26.3</td>\n",
       "      <td>1.93</td>\n",
       "      <td>2.033</td>\n",
       "      <td>2.63</td>\n",
       "    </tr>\n",
       "    <tr>\n",
       "      <th>1</th>\n",
       "      <td>124</td>\n",
       "      <td>86</td>\n",
       "      <td>18.5</td>\n",
       "      <td>5.59</td>\n",
       "      <td>7.25</td>\n",
       "      <td>27.7</td>\n",
       "      <td>1.85</td>\n",
       "      <td>0.725</td>\n",
       "      <td>2.77</td>\n",
       "    </tr>\n",
       "    <tr>\n",
       "      <th>2</th>\n",
       "      <td>110</td>\n",
       "      <td>80</td>\n",
       "      <td>19.3</td>\n",
       "      <td>5.59</td>\n",
       "      <td>15.50</td>\n",
       "      <td>27.5</td>\n",
       "      <td>1.93</td>\n",
       "      <td>1.550</td>\n",
       "      <td>2.75</td>\n",
       "    </tr>\n",
       "    <tr>\n",
       "      <th>3</th>\n",
       "      <td>124</td>\n",
       "      <td>86</td>\n",
       "      <td>25.1</td>\n",
       "      <td>5.59</td>\n",
       "      <td>9.35</td>\n",
       "      <td>26.3</td>\n",
       "      <td>2.51</td>\n",
       "      <td>0.935</td>\n",
       "      <td>2.63</td>\n",
       "    </tr>\n",
       "    <tr>\n",
       "      <th>4</th>\n",
       "      <td>122</td>\n",
       "      <td>76</td>\n",
       "      <td>19.3</td>\n",
       "      <td>5.59</td>\n",
       "      <td>20.22</td>\n",
       "      <td>27.6</td>\n",
       "      <td>1.93</td>\n",
       "      <td>2.022</td>\n",
       "      <td>2.76</td>\n",
       "    </tr>\n",
       "  </tbody>\n",
       "</table>\n",
       "</div>"
      ],
      "text/plain": [
       "   systolic  diastolic   BMI  momWeight/10  timeValueinHrs  days  BMIScaled  \\\n",
       "0       110         80  19.3          5.59           20.33  26.3       1.93   \n",
       "1       124         86  18.5          5.59            7.25  27.7       1.85   \n",
       "2       110         80  19.3          5.59           15.50  27.5       1.93   \n",
       "3       124         86  25.1          5.59            9.35  26.3       2.51   \n",
       "4       122         76  19.3          5.59           20.22  27.6       1.93   \n",
       "\n",
       "   timeScaled  daysScaled  \n",
       "0       2.033        2.63  \n",
       "1       0.725        2.77  \n",
       "2       1.550        2.75  \n",
       "3       0.935        2.63  \n",
       "4       2.022        2.76  "
      ]
     },
     "execution_count": 3,
     "metadata": {},
     "output_type": "execute_result"
    }
   ],
   "source": [
    "#dataframe\n",
    "dataframe=pd.read_csv('labourward2.csv')\n",
    "df_features=pd.read_csv('labourward2.csv')\n",
    "print(dataframe.head())\n",
    "df_features.head()\n"
   ]
  },
  {
   "cell_type": "code",
   "execution_count": 4,
   "metadata": {},
   "outputs": [
    {
     "name": "stdout",
     "output_type": "stream",
     "text": [
      "(101, 9)\n"
     ]
    }
   ],
   "source": [
    "#dataset shape\n",
    "dataset=np.array(dataframe)\n",
    "print(dataset.shape)"
   ]
  },
  {
   "cell_type": "code",
   "execution_count": 13,
   "metadata": {},
   "outputs": [
    {
     "name": "stdout",
     "output_type": "stream",
     "text": [
      "[[1.93 5.59]\n",
      " [1.85 5.59]\n",
      " [1.93 5.59]\n",
      " [2.51 5.59]\n",
      " [1.93 5.59]\n",
      " [2.51 5.7 ]\n",
      " [1.85 5.7 ]\n",
      " [2.43 5.8 ]\n",
      " [2.27 5.8 ]\n",
      " [1.93 5.8 ]\n",
      " [2.34 5.8 ]\n",
      " [1.93 5.8 ]\n",
      " [2.34 5.8 ]\n",
      " [1.85 6.  ]\n",
      " [2.27 6.  ]\n",
      " [2.51 6.1 ]\n",
      " [2.43 6.1 ]\n",
      " [2.02 6.24]\n",
      " [2.34 6.24]\n",
      " [1.93 6.24]\n",
      " [2.23 6.24]\n",
      " [2.51 6.24]\n",
      " [1.93 6.3 ]\n",
      " [2.51 6.3 ]\n",
      " [2.51 6.3 ]\n",
      " [2.34 6.32]\n",
      " [2.01 6.32]\n",
      " [2.34 6.32]\n",
      " [1.93 6.32]\n",
      " [2.34 6.32]\n",
      " [2.12 6.5 ]\n",
      " [2.23 6.5 ]\n",
      " [2.27 6.5 ]\n",
      " [2.34 6.5 ]\n",
      " [2.27 6.5 ]\n",
      " [2.27 6.8 ]\n",
      " [2.43 6.8 ]\n",
      " [1.93 6.8 ]\n",
      " [2.27 6.8 ]\n",
      " [2.27 6.8 ]\n",
      " [1.83 6.8 ]\n",
      " [2.27 6.8 ]\n",
      " [1.85 6.8 ]\n",
      " [2.51 6.97]\n",
      " [1.92 6.97]\n",
      " [2.51 6.97]\n",
      " [2.43 6.97]\n",
      " [2.51 6.97]\n",
      " [2.23 6.97]\n",
      " [2.34 7.  ]\n",
      " [1.83 7.  ]\n",
      " [2.27 7.  ]\n",
      " [2.02 7.  ]\n",
      " [2.34 7.  ]\n",
      " [2.43 7.  ]\n",
      " [2.02 7.  ]\n",
      " [2.12 7.  ]\n",
      " [2.43 7.  ]\n",
      " [1.93 7.  ]\n",
      " [2.43 7.07]\n",
      " [2.34 7.07]\n",
      " [2.43 7.07]\n",
      " [2.27 7.07]\n",
      " [2.43 7.07]\n",
      " [2.01 7.07]\n",
      " [1.83 7.1 ]\n",
      " [2.51 7.1 ]\n",
      " [1.83 7.1 ]\n",
      " [2.12 7.1 ]\n",
      " [1.92 7.1 ]\n",
      " [2.34 7.2 ]\n",
      " [1.93 7.2 ]\n",
      " [1.93 7.2 ]\n",
      " [1.93 7.3 ]\n",
      " [2.51 7.3 ]\n",
      " [1.97 7.5 ]\n",
      " [2.12 7.5 ]\n",
      " [1.83 7.5 ]\n",
      " [2.27 7.5 ]\n",
      " [2.23 7.65]\n",
      " [1.93 7.65]\n",
      " [2.51 7.65]\n",
      " [2.01 7.65]\n",
      " [2.43 7.65]\n",
      " [2.01 7.7 ]\n",
      " [2.43 7.7 ]\n",
      " [2.51 8.2 ]\n",
      " [2.34 8.2 ]\n",
      " [2.34 8.2 ]\n",
      " [1.92 8.2 ]\n",
      " [2.34 8.2 ]\n",
      " [2.27 8.3 ]\n",
      " [2.34 8.3 ]\n",
      " [2.51 8.3 ]\n",
      " [1.83 8.3 ]\n",
      " [2.51 8.3 ]\n",
      " [2.12 8.5 ]\n",
      " [2.43 8.5 ]\n",
      " [2.12 8.5 ]\n",
      " [2.34 8.5 ]\n",
      " [2.34 8.5 ]]\n"
     ]
    }
   ],
   "source": [
    "#x=np.array(dataframe['momWeight/10']).reshape(-1,1)\n",
    "#or\n",
    "x=np.array(df_features[['BMIScaled','momWeight/10']])\n",
    "print(x)"
   ]
  },
  {
   "cell_type": "code",
   "execution_count": 14,
   "metadata": {},
   "outputs": [
    {
     "name": "stdout",
     "output_type": "stream",
     "text": [
      "[2.63 2.77 2.75 2.63 2.76 2.71 2.7  2.74 2.64 2.61 2.6  2.64 2.68 2.63\n",
      " 2.75 2.71 2.63 2.63 2.78 2.72 2.63 2.71 2.8  2.65 2.68 2.78 2.63 2.75\n",
      " 2.66 2.7  2.75 2.72 2.69 2.7  2.65 2.63 2.63 2.72 2.74 2.76 2.61 2.63\n",
      " 2.62 2.79 2.74 2.8  2.73 2.62 2.77 2.64 2.63 2.8  2.68 2.67 2.65 2.61\n",
      " 2.77 2.71 2.72 2.79 2.76 2.6  2.62 2.73 2.65 2.76 2.64 2.74 2.73 2.69\n",
      " 2.78 2.79 2.65 2.71 2.72 2.75 2.72 2.7  2.75 2.71 2.67 2.64 2.61 2.74\n",
      " 2.71 2.7  2.79 2.72 2.73 2.69 2.64 2.78 2.79 2.68 2.78 2.61 2.63 2.74\n",
      " 2.62 2.76 2.72]\n"
     ]
    }
   ],
   "source": [
    "y=dataset[:,8] #1 D column expected\n",
    "print(y)"
   ]
  },
  {
   "cell_type": "code",
   "execution_count": 15,
   "metadata": {},
   "outputs": [],
   "source": [
    "#divide into train and test\n",
    "from sklearn.model_selection import train_test_split\n",
    "x_train,x_test,y_train,y_test=train_test_split(x,y,random_state=100)"
   ]
  },
  {
   "cell_type": "code",
   "execution_count": 16,
   "metadata": {},
   "outputs": [
    {
     "name": "stdout",
     "output_type": "stream",
     "text": [
      "x_train length: 75\n",
      "x_test length: 26\n",
      "y_train length: 75\n",
      "y_test length: 26\n"
     ]
    }
   ],
   "source": [
    "#check shapes\n",
    "print(f\"x_train length: {len(x_train)}\\nx_test length: {len(x_test)}\\ny_train length: {len(y_train)}\\ny_test length: {len(y_test)}\")"
   ]
  },
  {
   "cell_type": "code",
   "execution_count": 17,
   "metadata": {},
   "outputs": [
    {
     "data": {
      "text/html": [
       "<style>#sk-container-id-2 {color: black;background-color: white;}#sk-container-id-2 pre{padding: 0;}#sk-container-id-2 div.sk-toggleable {background-color: white;}#sk-container-id-2 label.sk-toggleable__label {cursor: pointer;display: block;width: 100%;margin-bottom: 0;padding: 0.3em;box-sizing: border-box;text-align: center;}#sk-container-id-2 label.sk-toggleable__label-arrow:before {content: \"▸\";float: left;margin-right: 0.25em;color: #696969;}#sk-container-id-2 label.sk-toggleable__label-arrow:hover:before {color: black;}#sk-container-id-2 div.sk-estimator:hover label.sk-toggleable__label-arrow:before {color: black;}#sk-container-id-2 div.sk-toggleable__content {max-height: 0;max-width: 0;overflow: hidden;text-align: left;background-color: #f0f8ff;}#sk-container-id-2 div.sk-toggleable__content pre {margin: 0.2em;color: black;border-radius: 0.25em;background-color: #f0f8ff;}#sk-container-id-2 input.sk-toggleable__control:checked~div.sk-toggleable__content {max-height: 200px;max-width: 100%;overflow: auto;}#sk-container-id-2 input.sk-toggleable__control:checked~label.sk-toggleable__label-arrow:before {content: \"▾\";}#sk-container-id-2 div.sk-estimator input.sk-toggleable__control:checked~label.sk-toggleable__label {background-color: #d4ebff;}#sk-container-id-2 div.sk-label input.sk-toggleable__control:checked~label.sk-toggleable__label {background-color: #d4ebff;}#sk-container-id-2 input.sk-hidden--visually {border: 0;clip: rect(1px 1px 1px 1px);clip: rect(1px, 1px, 1px, 1px);height: 1px;margin: -1px;overflow: hidden;padding: 0;position: absolute;width: 1px;}#sk-container-id-2 div.sk-estimator {font-family: monospace;background-color: #f0f8ff;border: 1px dotted black;border-radius: 0.25em;box-sizing: border-box;margin-bottom: 0.5em;}#sk-container-id-2 div.sk-estimator:hover {background-color: #d4ebff;}#sk-container-id-2 div.sk-parallel-item::after {content: \"\";width: 100%;border-bottom: 1px solid gray;flex-grow: 1;}#sk-container-id-2 div.sk-label:hover label.sk-toggleable__label {background-color: #d4ebff;}#sk-container-id-2 div.sk-serial::before {content: \"\";position: absolute;border-left: 1px solid gray;box-sizing: border-box;top: 0;bottom: 0;left: 50%;z-index: 0;}#sk-container-id-2 div.sk-serial {display: flex;flex-direction: column;align-items: center;background-color: white;padding-right: 0.2em;padding-left: 0.2em;position: relative;}#sk-container-id-2 div.sk-item {position: relative;z-index: 1;}#sk-container-id-2 div.sk-parallel {display: flex;align-items: stretch;justify-content: center;background-color: white;position: relative;}#sk-container-id-2 div.sk-item::before, #sk-container-id-2 div.sk-parallel-item::before {content: \"\";position: absolute;border-left: 1px solid gray;box-sizing: border-box;top: 0;bottom: 0;left: 50%;z-index: -1;}#sk-container-id-2 div.sk-parallel-item {display: flex;flex-direction: column;z-index: 1;position: relative;background-color: white;}#sk-container-id-2 div.sk-parallel-item:first-child::after {align-self: flex-end;width: 50%;}#sk-container-id-2 div.sk-parallel-item:last-child::after {align-self: flex-start;width: 50%;}#sk-container-id-2 div.sk-parallel-item:only-child::after {width: 0;}#sk-container-id-2 div.sk-dashed-wrapped {border: 1px dashed gray;margin: 0 0.4em 0.5em 0.4em;box-sizing: border-box;padding-bottom: 0.4em;background-color: white;}#sk-container-id-2 div.sk-label label {font-family: monospace;font-weight: bold;display: inline-block;line-height: 1.2em;}#sk-container-id-2 div.sk-label-container {text-align: center;}#sk-container-id-2 div.sk-container {/* jupyter's `normalize.less` sets `[hidden] { display: none; }` but bootstrap.min.css set `[hidden] { display: none !important; }` so we also need the `!important` here to be able to override the default hidden behavior on the sphinx rendered scikit-learn.org. See: https://github.com/scikit-learn/scikit-learn/issues/21755 */display: inline-block !important;position: relative;}#sk-container-id-2 div.sk-text-repr-fallback {display: none;}</style><div id=\"sk-container-id-2\" class=\"sk-top-container\"><div class=\"sk-text-repr-fallback\"><pre>RandomForestRegressor(random_state=0)</pre><b>In a Jupyter environment, please rerun this cell to show the HTML representation or trust the notebook. <br />On GitHub, the HTML representation is unable to render, please try loading this page with nbviewer.org.</b></div><div class=\"sk-container\" hidden><div class=\"sk-item\"><div class=\"sk-estimator sk-toggleable\"><input class=\"sk-toggleable__control sk-hidden--visually\" id=\"sk-estimator-id-2\" type=\"checkbox\" checked><label for=\"sk-estimator-id-2\" class=\"sk-toggleable__label sk-toggleable__label-arrow\">RandomForestRegressor</label><div class=\"sk-toggleable__content\"><pre>RandomForestRegressor(random_state=0)</pre></div></div></div></div></div>"
      ],
      "text/plain": [
       "RandomForestRegressor(random_state=0)"
      ]
     },
     "execution_count": 17,
     "metadata": {},
     "output_type": "execute_result"
    }
   ],
   "source": [
    "#using random forest regression model\n",
    "from sklearn.ensemble import RandomForestRegressor\n",
    "\n",
    "#create a regression object\n",
    "regressor= RandomForestRegressor(n_estimators=100,random_state=0)\n",
    "regressor.fit(x_train,y_train)"
   ]
  },
  {
   "cell_type": "code",
   "execution_count": 10,
   "metadata": {},
   "outputs": [],
   "source": [
    "import math"
   ]
  },
  {
   "cell_type": "code",
   "execution_count": 18,
   "metadata": {},
   "outputs": [
    {
     "ename": "NameError",
     "evalue": "name 'math' is not defined",
     "output_type": "error",
     "traceback": [
      "\u001b[1;31m---------------------------------------------------------------------------\u001b[0m",
      "\u001b[1;31mNameError\u001b[0m                                 Traceback (most recent call last)",
      "\u001b[1;32mc:\\Users\\theop\\Desktop\\AI and Data Science\\research project(Birth Prediction)\\birthtimePredRFLabourWard Multiple Variables.ipynb Cell 11\u001b[0m in \u001b[0;36m<cell line: 2>\u001b[1;34m()\u001b[0m\n\u001b[0;32m      <a href='vscode-notebook-cell:/c%3A/Users/theop/Desktop/AI%20and%20Data%20Science/research%20project%28Birth%20Prediction%29/birthtimePredRFLabourWard%20Multiple%20Variables.ipynb#X13sZmlsZQ%3D%3D?line=2'>3</a>\u001b[0m res\u001b[39m=\u001b[39my_hat[i]\n\u001b[0;32m      <a href='vscode-notebook-cell:/c%3A/Users/theop/Desktop/AI%20and%20Data%20Science/research%20project%28Birth%20Prediction%29/birthtimePredRFLabourWard%20Multiple%20Variables.ipynb#X13sZmlsZQ%3D%3D?line=3'>4</a>\u001b[0m m\u001b[39m=\u001b[39m(\u001b[39mround\u001b[39m((res\u001b[39m-\u001b[39m\u001b[39mint\u001b[39m(res))\u001b[39m*\u001b[39m\u001b[39m60\u001b[39m,\u001b[39m0\u001b[39m))\u001b[39m/\u001b[39m\u001b[39m100\u001b[39m\n\u001b[1;32m----> <a href='vscode-notebook-cell:/c%3A/Users/theop/Desktop/AI%20and%20Data%20Science/research%20project%28Birth%20Prediction%29/birthtimePredRFLabourWard%20Multiple%20Variables.ipynb#X13sZmlsZQ%3D%3D?line=4'>5</a>\u001b[0m h\u001b[39m=\u001b[39mmath\u001b[39m.\u001b[39mtrunc(res)\n\u001b[0;32m      <a href='vscode-notebook-cell:/c%3A/Users/theop/Desktop/AI%20and%20Data%20Science/research%20project%28Birth%20Prediction%29/birthtimePredRFLabourWard%20Multiple%20Variables.ipynb#X13sZmlsZQ%3D%3D?line=5'>6</a>\u001b[0m time\u001b[39m=\u001b[39mm\u001b[39m+\u001b[39mh\n\u001b[0;32m      <a href='vscode-notebook-cell:/c%3A/Users/theop/Desktop/AI%20and%20Data%20Science/research%20project%28Birth%20Prediction%29/birthtimePredRFLabourWard%20Multiple%20Variables.ipynb#X13sZmlsZQ%3D%3D?line=6'>7</a>\u001b[0m \u001b[39mif\u001b[39;00m time\u001b[39m>\u001b[39m\u001b[39m0.0\u001b[39m \u001b[39mand\u001b[39;00m time\u001b[39m<\u001b[39m\u001b[39m12.0\u001b[39m:\n",
      "\u001b[1;31mNameError\u001b[0m: name 'math' is not defined"
     ]
    }
   ],
   "source": [
    "y_hat=regressor.predict(x_test)\n",
    "for i in range(len(x_test)):\n",
    "    res=y_hat[i]\n",
    "    m=(round((res-int(res))*60,0))/100\n",
    "    h=math.trunc(res)\n",
    "    time=m+h\n",
    "    if time>0.0 and time<12.0:\n",
    "     \n",
    "     print(f\"{x_test[i][0]} BMI\\t{round(x_test[i][1]*10,2)} kg  = Prediction: {time:0.2f} am\")\n",
    "    elif time>11.59 and time<23.59:\n",
    "        time=round(time-12.00,2)#convert into 12hrs clock\n",
    "        if time>=0.0 and time<=0.59:\n",
    "         print(f\"{x_test[i][0]} BMI\\t{round(x_test[i][1]*10,2)} kg = Prediction: {time+12.00:0.2f} pm\")\n",
    "        elif time>0.59:\n",
    "         print(f\"{x_test[i][0]} BMI\\t{round(x_test[i][1]*10,2)} kg = Prediction: {time:0.2f} pm\")\n",
    "    "
   ]
  },
  {
   "cell_type": "markdown",
   "metadata": {},
   "source": [
    "# Random Forest Evalutaion"
   ]
  },
  {
   "cell_type": "code",
   "execution_count": 19,
   "metadata": {},
   "outputs": [
    {
     "name": "stdout",
     "output_type": "stream",
     "text": [
      "RMSE root: 0.0683412174579322\n",
      "MAE root: 0.055998333333332706\n"
     ]
    }
   ],
   "source": [
    "#get the mean squared error root\n",
    "from sklearn.metrics import mean_squared_error,mean_absolute_error\n",
    "print(f\"RMSE root: {np.sqrt(mean_squared_error(y_test,y_hat))}\")\n",
    "print(f\"MAE root: {mean_absolute_error(y_test,y_hat)}\")"
   ]
  }
 ],
 "metadata": {
  "kernelspec": {
   "display_name": "Python 3.10.5 64-bit",
   "language": "python",
   "name": "python3"
  },
  "language_info": {
   "codemirror_mode": {
    "name": "ipython",
    "version": 3
   },
   "file_extension": ".py",
   "mimetype": "text/x-python",
   "name": "python",
   "nbconvert_exporter": "python",
   "pygments_lexer": "ipython3",
   "version": "3.10.5 (tags/v3.10.5:f377153, Jun  6 2022, 16:14:13) [MSC v.1929 64 bit (AMD64)]"
  },
  "orig_nbformat": 4,
  "vscode": {
   "interpreter": {
    "hash": "5b65f58aac08ef7a7032cc93a81d82c2e49bff9fbe70de5f6ea40a0cab91e5f6"
   }
  }
 },
 "nbformat": 4,
 "nbformat_minor": 2
}
